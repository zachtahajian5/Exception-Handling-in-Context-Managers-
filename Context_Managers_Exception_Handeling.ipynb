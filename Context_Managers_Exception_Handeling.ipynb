{
  "nbformat": 4,
  "nbformat_minor": 0,
  "metadata": {
    "colab": {
      "provenance": [],
      "authorship_tag": "ABX9TyOxTwxZzyb+r3qtPblotpMs",
      "include_colab_link": true
    },
    "kernelspec": {
      "name": "python3",
      "display_name": "Python 3"
    },
    "language_info": {
      "name": "python"
    }
  },
  "cells": [
    {
      "cell_type": "markdown",
      "metadata": {
        "id": "view-in-github",
        "colab_type": "text"
      },
      "source": [
        "<a href=\"https://colab.research.google.com/github/zachtahajian5/Exception-Handling-in-Context-Managers-/blob/main/Context_Managers_Exception_Handeling.ipynb\" target=\"_parent\"><img src=\"https://colab.research.google.com/assets/colab-badge.svg\" alt=\"Open In Colab\"/></a>"
      ]
    },
    {
      "cell_type": "code",
      "execution_count": 17,
      "metadata": {
        "colab": {
          "base_uri": "https://localhost:8080/"
        },
        "id": "4q4sxJa3n1Om",
        "outputId": "22861759-b99d-4921-bfc7-3879d2041b49"
      },
      "outputs": [
        {
          "output_type": "stream",
          "name": "stdout",
          "text": [
            "Ignored error: ZeroDivision Error: division by zero\n",
            "This should print if no bubbles\n"
          ]
        }
      ],
      "source": [
        "from contextlib import ContextDecorator\n",
        "\n",
        "class SuppressFileNotFound(ContextDecorator):\n",
        "    def __enter__(self):\n",
        "        return self\n",
        "\n",
        "    def __exit__(self, exc_type, exc_val, exc_tb):\n",
        "        if exc_type is ZeroDivisionError:\n",
        "            print(f\"Ignored error: ZeroDivision Error: {exc_val}\")\n",
        "            return True\n",
        "        return False\n",
        "\n",
        "with SuppressFileNotFound():\n",
        "  1 / 0\n",
        "\n",
        "\n",
        "print(\"This should print if no bubbling exceptions from __exit__\")"
      ]
    },
    {
      "cell_type": "code",
      "source": [
        "u"
      ],
      "metadata": {
        "id": "q00YbaE1pljx"
      },
      "execution_count": null,
      "outputs": []
    },
    {
      "cell_type": "code",
      "source": [],
      "metadata": {
        "id": "njURxyjUoOXo"
      },
      "execution_count": null,
      "outputs": []
    }
  ]
}